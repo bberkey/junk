{
 "cells": [
  {
   "cell_type": "code",
   "execution_count": 91,
   "metadata": {
    "collapsed": false
   },
   "outputs": [],
   "source": [
    "from IPython.html import widgets\n",
    "from IPython.display import display\n",
    "import urllib\n",
    "import glob\n",
    "import time\n",
    "import io\n",
    "\n",
    "\n",
    "\n",
    "def submitLog(btn):\n",
    "    logName = glob.glob(\"z:\\\\mlsolog\\\\*.tmp\")\n",
    "    f = io.open(logName[0],'a',newline='')\n",
    "    if d.value == \"WEATHER COMMENT\":\n",
    "        f.write(d.value+ \": \" +observers.value + \": \" +time.strftime(\"%a %b %d %X GMT %Y\",time.gmtime())+\"\\n\")\n",
    "    elif d.value.count(\"PROBLEM\"):\n",
    "        f.write(\"**\"+d.value+ \" COMMENT BY \" +observers.value + \"** : \" +time.strftime(\"%a %b %d %X GMT %Y\",time.gmtime())+\"\\n\")\n",
    "    elif d.value.count(\"Event\"):   \n",
    "        f.write(\"****EVENT COMMENT BY \" +observers.value + \"**** : \" +time.strftime(\"%a %b %d %X GMT %Y\",time.gmtime())+\"\\n\")\n",
    "    else:\n",
    "        f.write(d.value+ \" BY \" +observers.value + \": \" +time.strftime(\"%a %b %d %X GMT %Y\",time.gmtime())+\"\\n\")\n",
    "    f.write(logTxt.value+\"\\n\")\n",
    "    f.write(\"___end___\\n\")\n",
    "    f.close()\n",
    "    logTxt.value = \"\"\n",
    "\n",
    "    \n",
    "def CheckCommentType(name, value):\n",
    "    if value == \"WEATHER COMMENT\" and logTxt.value ==\"\":\n",
    "        WeatherString = str(urllib.request.urlopen(\"http://ulua.mlso.ucar.edu/weatherData/current.log\").read()).split(\",\")\n",
    "        #DateTime,TempOut,TempIn,HumOut,HumIn,Pressure,DewPoint,WindSpeed,WindDir,UV,SolarRad,RainRate\n",
    "        logTxt.value=\"Temp: \"+WeatherString[1] +\"f, Humidity: \"+WeatherString[3]+\"%, Pressure: \"+WeatherString[5] +\"in, Wind: \"+WeatherString[7]+\"mph from \"+WeatherString[8]+\"degs, Skies:\"\n",
    "    elif value == \"CME Alert\" and t.value ==\"\":\n",
    "        logTxt.value=\"Possible CME seen launching near PA:% at time %UT\"\n",
    "    else:\n",
    "        logTxt.value =\"\"\n",
    "        \n",
    "MenuOptions = (\n",
    "    'GENERAL COMMENT',\n",
    "    'GENERAL PROBLEM',\n",
    "    'WEATHER COMMENT',\n",
    "    'PSPT COMMENT',\n",
    "    'PSPT PROBLEM',\n",
    "    'CoMP COMMENT',\n",
    "    'CoMP PROBLEM',\n",
    "    'KCOR COMMENT',\n",
    "    'KCOR PROBLEM',\n",
    "    'GONG COMMENT',\n",
    "    'GONG PROBLEM',\n",
    "    'Solar Event',\n",
    "    'CME Alert',\n",
    ")\n",
    "\n",
    "\n",
    "\n",
    "d = widgets.Dropdown(options=MenuOptions)\n",
    "display(d)\n",
    "observers = widgets.Dropdown(options=[\"berkey\",\"rose\",\"stueben\",\"waters\"])\n",
    "display(observers)\n",
    "\n",
    "logTxt = widgets.Textarea()\n",
    "\n",
    "display(logTxt)\n",
    "\n",
    "submitLogBtn = widgets.Button(description=\"Log it\")\n",
    "submitLogBtn.on_click(submitLog)\n",
    "display(submitLogBtn)\n",
    "d.on_trait_change(CheckCommentType,'value')\n"
   ]
  },
  {
   "cell_type": "code",
   "execution_count": null,
   "metadata": {
    "collapsed": false
   },
   "outputs": [],
   "source": [
    "\n"
   ]
  },
  {
   "cell_type": "code",
   "execution_count": null,
   "metadata": {
    "collapsed": true
   },
   "outputs": [],
   "source": []
  },
  {
   "cell_type": "code",
   "execution_count": null,
   "metadata": {
    "collapsed": true
   },
   "outputs": [],
   "source": []
  }
 ],
 "metadata": {
  "kernelspec": {
   "display_name": "Python 3",
   "language": "python",
   "name": "python3"
  },
  "language_info": {
   "codemirror_mode": {
    "name": "ipython",
    "version": 3
   },
   "file_extension": ".py",
   "mimetype": "text/x-python",
   "name": "python",
   "nbconvert_exporter": "python",
   "pygments_lexer": "ipython3",
   "version": "3.4.3"
  }
 },
 "nbformat": 4,
 "nbformat_minor": 0
}
